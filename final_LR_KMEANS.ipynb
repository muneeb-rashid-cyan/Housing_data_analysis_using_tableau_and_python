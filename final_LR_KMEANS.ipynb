{
  "nbformat": 4,
  "nbformat_minor": 0,
  "metadata": {
    "colab": {
      "name": "final_LR_KMEANS.ipynb",
      "provenance": []
    },
    "kernelspec": {
      "name": "python3",
      "display_name": "Python 3"
    },
    "language_info": {
      "name": "python"
    },
    "accelerator": "GPU",
    "gpuClass": "standard"
  },
  "cells": [
    {
      "cell_type": "markdown",
      "source": [
        "**Pyspark installation**"
      ],
      "metadata": {
        "id": "MdU3iPf-vs46"
      }
    },
    {
      "cell_type": "code",
      "source": [
        "# from google.colab import drive\n",
        "# drive.mount('/content/drive')"
      ],
      "metadata": {
        "id": "5iuZeTn-Pqdh"
      },
      "execution_count": 167,
      "outputs": []
    },
    {
      "cell_type": "code",
      "source": [
        "# innstall java\n",
        "!apt-get install openjdk-8-jdk-headless -qq > /dev/null\n",
        "\n",
        "# install spark (change the version number if needed)\n",
        "!wget -q https://archive.apache.org/dist/spark/spark-3.0.0/spark-3.0.0-bin-hadoop3.2.tgz\n",
        "\n",
        "# unzip the spark file to the current folder\n",
        "!tar xf spark-3.0.0-bin-hadoop3.2.tgz\n",
        "\n",
        "# set your spark folder to your system path environment. \n",
        "import os\n",
        "os.environ[\"JAVA_HOME\"] = \"/usr/lib/jvm/java-8-openjdk-amd64\"\n",
        "os.environ[\"SPARK_HOME\"] = \"/content/spark-3.0.0-bin-hadoop3.2\"\n",
        "\n",
        "\n",
        "# install findspark using pip\n",
        "!pip install -q findspark"
      ],
      "metadata": {
        "id": "yINBrGqJviEA"
      },
      "execution_count": 168,
      "outputs": []
    },
    {
      "cell_type": "code",
      "source": [
        "\n",
        "# # !pip uninstall pyspark\n",
        "# !pip install pyspark==3.0.0"
      ],
      "metadata": {
        "id": "BvkVbEhHtEqs"
      },
      "execution_count": 169,
      "outputs": []
    },
    {
      "cell_type": "code",
      "source": [
        "# !pip install findspark"
      ],
      "metadata": {
        "id": "q7HYQlLYuEyz"
      },
      "execution_count": 170,
      "outputs": []
    },
    {
      "cell_type": "code",
      "source": [
        "# import findspark\n",
        "# findspark.init() "
      ],
      "metadata": {
        "id": "7qi8gaFnt7ov"
      },
      "execution_count": 171,
      "outputs": []
    },
    {
      "cell_type": "markdown",
      "source": [
        "**Import libraries**"
      ],
      "metadata": {
        "id": "CmZckSzgv8hD"
      }
    },
    {
      "cell_type": "code",
      "source": [
        "import numpy as np \n",
        "import pandas as pd \n",
        "import os\n",
        "import seaborn as sns\n",
        "from pyspark import SparkConf, SparkContext\n",
        "from pyspark.sql import SparkSession, SQLContext\n",
        "from pyspark.sql.types import *\n",
        "import pyspark.sql.functions as F\n",
        "from pyspark.sql.functions import udf, col\n",
        "\n",
        "from pyspark.ml.regression import LinearRegression\n",
        "from pyspark.mllib.evaluation import RegressionMetrics\n",
        "\n",
        "from pyspark.ml.tuning import ParamGridBuilder, CrossValidator, CrossValidatorModel\n",
        "from pyspark.ml.feature import VectorAssembler, StandardScaler\n",
        "from pyspark.ml.evaluation import RegressionEvaluator\n",
        "from pyspark.ml.feature import StringIndexer"
      ],
      "metadata": {
        "id": "AcmDKCR0wDMF"
      },
      "execution_count": 172,
      "outputs": []
    },
    {
      "cell_type": "markdown",
      "source": [
        "**Create Spark session**"
      ],
      "metadata": {
        "id": "0R6vggNlpYkh"
      }
    },
    {
      "cell_type": "code",
      "source": [
        "from pyspark.sql import SparkSession\n",
        "spark = SparkSession.builder.master('local')\\\n",
        ".appName('Housing Price Prediction')\\\n",
        ".getOrCreate()\n",
        "sc = spark.sparkContext"
      ],
      "metadata": {
        "id": "hKzRFKiVwL_B"
      },
      "execution_count": 173,
      "outputs": []
    },
    {
      "cell_type": "markdown",
      "source": [
        "**Import dataset**"
      ],
      "metadata": {
        "id": "CtSV9jjQwXqw"
      }
    },
    {
      "cell_type": "code",
      "source": [
        "# Read the datasets\n",
        "df = spark.read.option('header', 'true').csv(os.path.join('/content/drive/MyDrive/new_project/', 'housing.csv'), inferSchema = True)"
      ],
      "metadata": {
        "id": "Rt3LFgNkvd29"
      },
      "execution_count": 174,
      "outputs": []
    },
    {
      "cell_type": "markdown",
      "source": [
        "**Shape of the dataset**"
      ],
      "metadata": {
        "id": "W3fgKVy8pdUc"
      }
    },
    {
      "cell_type": "code",
      "source": [
        "print((df.count(), len(df.columns)))"
      ],
      "metadata": {
        "colab": {
          "base_uri": "https://localhost:8080/"
        },
        "id": "iWk9e0xdIIK8",
        "outputId": "b5c56321-488c-4688-a75b-27791dcad3db"
      },
      "execution_count": 175,
      "outputs": [
        {
          "output_type": "stream",
          "name": "stdout",
          "text": [
            "(384980, 22)\n"
          ]
        }
      ]
    },
    {
      "cell_type": "code",
      "source": [
        "df=df.limit(50000)"
      ],
      "metadata": {
        "id": "yCjP5iacNxJA"
      },
      "execution_count": 176,
      "outputs": []
    },
    {
      "cell_type": "code",
      "source": [
        "print((df.count(), len(df.columns)))"
      ],
      "metadata": {
        "colab": {
          "base_uri": "https://localhost:8080/"
        },
        "id": "qDOeAH56PF5_",
        "outputId": "65b87826-706d-4865-f281-87de7e53ff38"
      },
      "execution_count": 177,
      "outputs": [
        {
          "output_type": "stream",
          "name": "stdout",
          "text": [
            "(50000, 22)\n"
          ]
        }
      ]
    },
    {
      "cell_type": "code",
      "source": [
        "df.head(5)"
      ],
      "metadata": {
        "colab": {
          "base_uri": "https://localhost:8080/"
        },
        "id": "Rn67tv7YxAgR",
        "outputId": "0e797625-e961-4801-efc2-73dffb949bd1"
      },
      "execution_count": 178,
      "outputs": [
        {
          "output_type": "execute_result",
          "data": {
            "text/plain": [
              "[Row(id='7049044568', url='https://reno.craigslist.org/apa/d/reno-beautiful-3x2-newly-renovated/7049044568.html', region='reno / tahoe', region_url='https://reno.craigslist.org', price='1148', type='apartment', sqfeet='1078', beds='3', baths='2', cats_allowed='1', dogs_allowed='1', smoking_allowed='0', wheelchair_access='0', electric_vehicle_charge=0, comes_furnished='0', laundry_options='w/d in unit', parking_options='carport', image_url='https://images.craigslist.org/01616_daghmBUvTCI_600x450.jpg', description='Ridgeview by Vintage is where you will find all of your apartment living needs at a price you can afford!  Our spacious homes are located just off the freeway for easy access to shopping and entertainment, as well as a short drive from all the wonderful outdoor activities that the Truckee Meadows has to offer! Newly renovated homes and we have BRAND-NEW APPLIANCES! Some of the apartment features include; large windows for natural sunlight, central air conditioning and heating, plenty of cabinet space Personal Storage space near your home, Walk in closets, Patios/Balconies Appliances included; stove, microwave, dishwasher, refrigerator, washer and dryer  Our community features a sparkling seasonal pool, fitness center, basketball court, picnic areas with barbecues for your convenience, 2 playgrounds, after hours patrol, covered carport for every home and plenty of guest parking.  We have 24-hour emergency maintenance  *Non-Smoking Community* *INCOME RESTRICTIONS APPLY*  Call us to find out more today. Hurry our homes are going fast!  Hablmos Espanol!  ADDRESS: 4050 Gardella Ave, Reno NV 89512 Phone:  show contact info  OFFICE HOURS:', lat='39.5483', long='-119.796', state='ca'),\n",
              " Row(id='7049047186', url='https://reno.craigslist.org/apa/d/reno-reduced-lovely-2bd-2ba-condo/7049047186.html', region='reno / tahoe', region_url='https://reno.craigslist.org', price='1200', type='condo', sqfeet='1001', beds='2', baths='2', cats_allowed='0', dogs_allowed='0', smoking_allowed='0', wheelchair_access='0', electric_vehicle_charge=0, comes_furnished='0', laundry_options='w/d hookups', parking_options='carport', image_url='https://images.craigslist.org/00V0V_5va0MkgO9qu_600x450.jpg', description='Conveniently located in the middle town of Reno. Close to Highway, 10 mins to UNR, shopping and restaurants. Lovely 2 bedroom/2 full bathroom with walk-in closet. Central AC.  Available Jan. Now. Please call  show contact info  for viewing.', lat='39.5026', long='-119.789', state='ca'),\n",
              " Row(id='7043634882', url='https://reno.craigslist.org/apa/d/sparks-state-of-the-art-fitness-center/7043634882.html', region='reno / tahoe', region_url='https://reno.craigslist.org', price='1813', type='apartment', sqfeet='1683', beds='2', baths='2', cats_allowed='1', dogs_allowed='1', smoking_allowed='1', wheelchair_access='0', electric_vehicle_charge=0, comes_furnished='0', laundry_options='w/d in unit', parking_options='attached garage', image_url='https://images.craigslist.org/00t0t_erYqC6LgB8r_600x450.jpg', description='2BD | 2BA | 1683SQFTDiscover exceptional service and well-designed spacious floor plans at Caviata apartment homes in Sparks, Nevada. Our Kiley Ranch and Spanish Springs neighborhood pet friendly two and three-bedroom apartment homes feature fully equipped kitchens with expansive granite countertops and kitchen pantries. Youâ\\x80\\x99ll love the direct access garages, oversized windows, gas fireplace with mantle, and ample closet space. (+more) As a resident of Caviata at Kiley Ranch, youâ\\x80\\x99ll enjoy many resort-style amenities, such as a state-of-the-art fitness center, sparkling pool, and spa. Picture yourself at the BBQ on a beautiful day with your friends and family. Enjoy the great outdoors with miles of jogging and biking paths nearby. Caviata at Kiley Ranch is conveniently located by the Links at Kiley Ranch Golf Course, minutes from Pyramid Lake Highway. The Outlets at Legends and many restaurants and entertainment venues are just down the street, and weâ\\x80\\x99re located conveniently to Reno and major employers such as Tesla, Google, Amazon, and Panasonic. Come home to Caviata at Kiley Ranch apartment homesâ\\x80¦. Youâ\\x80\\x99ll love living here! Please check out our photo gallery and call for an appointment today.Amenities Include:Pre-Wired for InternetExtra Storage SpaceControlled AccessWasher/DryerSpacious Attached GaragesBBQ/Picnic AreaPersonalized Resident ServicesPatio or BalconyOn-site Maintenance and ManagementShort Term LeaseLarge Kitchen PantryStunning Sun DeckCall:  show contact info Equal Housing OpportunityPrices Change DailyFlexible Lease Terms', lat='39.6269', long='-119.708', state='ca'),\n",
              " Row(id='7049045324', url='https://reno.craigslist.org/apa/d/reno-1x1-first-floor-washer-dryer-no/7049045324.html', region='reno / tahoe', region_url='https://reno.craigslist.org', price='1095', type='apartment', sqfeet='708', beds='1', baths='1', cats_allowed='1', dogs_allowed='1', smoking_allowed='1', wheelchair_access='0', electric_vehicle_charge=0, comes_furnished='0', laundry_options='w/d in unit', parking_options='carport', image_url='https://images.craigslist.org/00303_3HSJz75zlIf_600x450.jpg', description=\"MOVE IN SPECIAL FREE WASHER/DRYER WITH 6 OR 12 MONTH LEASE! *Ask about our preferred employer program for extra discounts!  One bedroom/One bath 708 sq.ft. $1095 per month Deposit $400 1/2 refundable *Specials and rates are subject to change at any time  -Call us today at  show contact info  or  show contact info  Visit us on our website: enclavereno.com Office hours: Monday-Saturday 9-6pm & Sunday's 11-5pm  Unit Features Â· Full size washer and dryer available Â· Spacious Private patio/balcony -Â· Frost free refrigerator Â· Oven and Dishwasher Â· Brushed stainless steel kitchen sinks Â· Central heating/air conditioning Â· Pre wired for multiple phones & cable Â· Spacious walk in closets Â· Stylish interior colors Â· Window coverings throughout Â· Fire sprinkler system  Community Features Gated access entry, Heated seasonal pool, Whirlpool spa open year-round, Club quality fitness center available, Garages with remote openers, Two sizes of storage units, Basketball/sport court, Picnic areas with barbecues, 2 Toddler playgrounds, 2 Clothing care centers, After Hours Courtesy patrol, Designated non-smoking buildings, 24-hour Emergency maintenance, Covered Carport, Fenced in Dog Park and Guest Parking.  If you would like to take a tour of our community please give us a call at  show contact info  OR  show contact info  to schedule an appointment. Our friendly professional office staff will be happy to assist you during our office hours Monday-Saturday 9-6 pm and on Sunday 11-5pm.\", lat='39.4477', long='-119.771', state='ca'),\n",
              " Row(id='7049043759', url='https://reno.craigslist.org/apa/d/reno-no-long-term-lease-required/7049043759.html', region='reno / tahoe', region_url='https://reno.craigslist.org', price='289', type='apartment', sqfeet='250', beds='0', baths='1', cats_allowed='1', dogs_allowed='1', smoking_allowed='1', wheelchair_access='1', electric_vehicle_charge=0, comes_furnished='1', laundry_options='laundry on site', parking_options=None, image_url='https://images.craigslist.org/01616_fALAWFV8zQN_600x450.jpg', description='Move In Today: Reno Low-Cost, Clean & Furnished Apartments close to Restaurants, Cafes, Parks, and More!  Call Us! Move In Today! Available:Studio Units **Short Term Flexible Options **Utilities Included**Fully Furnished **Free Basic Cable TV Call Now: show contact info  Additional Information:www.siegelsuites.com Siegel Suites 701 E 7th street Reno NV 89512  Apartment Home Features  - Sparkling Pool - Pet/Dog Friendly -kitchenettes an full bath - Easy access to I-80  - Close to Riverwalk, downtown, an parks  -  Free Siegel Reward Program Earn points every time you pay your rent or refer a friend. Use your points to treat yourself to free rent, food, movies, gift cards, and much more!.', lat='39.5357', long='-119.805', state='ca')]"
            ]
          },
          "metadata": {},
          "execution_count": 178
        }
      ]
    },
    {
      "cell_type": "markdown",
      "source": [
        "**Schema of the dataset**"
      ],
      "metadata": {
        "id": "9q3Batlypisg"
      }
    },
    {
      "cell_type": "code",
      "source": [
        "df.printSchema()\n"
      ],
      "metadata": {
        "colab": {
          "base_uri": "https://localhost:8080/"
        },
        "id": "YBvuNDunxUES",
        "outputId": "8dd2d9e0-4b03-4e61-f3f5-1cc4742630e8"
      },
      "execution_count": 179,
      "outputs": [
        {
          "output_type": "stream",
          "name": "stdout",
          "text": [
            "root\n",
            " |-- id: string (nullable = true)\n",
            " |-- url: string (nullable = true)\n",
            " |-- region: string (nullable = true)\n",
            " |-- region_url: string (nullable = true)\n",
            " |-- price: string (nullable = true)\n",
            " |-- type: string (nullable = true)\n",
            " |-- sqfeet: string (nullable = true)\n",
            " |-- beds: string (nullable = true)\n",
            " |-- baths: string (nullable = true)\n",
            " |-- cats_allowed: string (nullable = true)\n",
            " |-- dogs_allowed: string (nullable = true)\n",
            " |-- smoking_allowed: string (nullable = true)\n",
            " |-- wheelchair_access: string (nullable = true)\n",
            " |-- electric_vehicle_charge: integer (nullable = true)\n",
            " |-- comes_furnished: string (nullable = true)\n",
            " |-- laundry_options: string (nullable = true)\n",
            " |-- parking_options: string (nullable = true)\n",
            " |-- image_url: string (nullable = true)\n",
            " |-- description: string (nullable = true)\n",
            " |-- lat: string (nullable = true)\n",
            " |-- long: string (nullable = true)\n",
            " |-- state: string (nullable = true)\n",
            "\n"
          ]
        }
      ]
    },
    {
      "cell_type": "code",
      "source": [
        "df = df \\\n",
        "  .withColumn(\"price\" ,\n",
        "              df[\"price\"]\n",
        "              .cast(IntegerType()))   \\\n",
        "   .withColumn(\"sqfeet\" ,\n",
        "              df[\"sqfeet\"]\n",
        "              .cast(IntegerType()))   \\\n",
        "   .withColumn(\"beds\" ,\n",
        "              df[\"beds\"]\n",
        "              .cast(IntegerType())) \\\n",
        "   .withColumn(\"baths\" ,\n",
        "              df[\"baths\"]\n",
        "              .cast(IntegerType())) \\\n",
        "   .withColumn(\"dogs_allowed\" ,\n",
        "              df[\"dogs_allowed\"]\n",
        "              .cast(IntegerType())) \\\n",
        "     .withColumn(\"smoking_allowed\" ,\n",
        "              df[\"smoking_allowed\"]\n",
        "              .cast(IntegerType())) \\\n",
        "     .withColumn(\"wheelchair_access\" ,\n",
        "              df[\"wheelchair_access\"]\n",
        "              .cast(IntegerType()))  \\\n",
        "     .withColumn(\"comes_furnished\" ,\n",
        "              df[\"comes_furnished\"]\n",
        "              .cast(IntegerType()))  \\\n",
        "      .withColumn(\"cats_allowed\" ,\n",
        "              df[\"cats_allowed\"]\n",
        "              .cast(IntegerType())) "
      ],
      "metadata": {
        "id": "zrmTFcD62hd3"
      },
      "execution_count": 180,
      "outputs": []
    },
    {
      "cell_type": "code",
      "source": [
        "df_p = df.toPandas()\n"
      ],
      "metadata": {
        "id": "x1xoagS02o7H"
      },
      "execution_count": 181,
      "outputs": []
    },
    {
      "cell_type": "code",
      "source": [
        "corrMatrix=df_p.corr()\n",
        "fig, ax = plt.subplots(figsize=(12,10))\n",
        "sns.heatmap(corrMatrix,annot=True)"
      ],
      "metadata": {
        "colab": {
          "base_uri": "https://localhost:8080/",
          "height": 720
        },
        "id": "0w1N9aaa2uOW",
        "outputId": "e1c24d4e-446c-4a8c-d7b4-440d96b1dd54"
      },
      "execution_count": 182,
      "outputs": [
        {
          "output_type": "execute_result",
          "data": {
            "text/plain": [
              "<matplotlib.axes._subplots.AxesSubplot at 0x7fba024ee2d0>"
            ]
          },
          "metadata": {},
          "execution_count": 182
        },
        {
          "output_type": "display_data",
          "data": {
            "text/plain": [
              "<Figure size 864x720 with 2 Axes>"
            ],
            "image/png": "[encoded data removed]"
          },
          "metadata": {}
        }
      ]
    },
    {
      "cell_type": "code",
      "source": [
        "sns.barplot(x=df_p[\"parking_options\"],y=df_p[\"price\"])\n",
        "fig = plt.gcf()\n",
        "fig.set_size_inches(10,7)\n",
        "plt.title('Which type of parking option has more price')"
      ],
      "metadata": {
        "colab": {
          "base_uri": "https://localhost:8080/",
          "height": 476
        },
        "id": "NkWt5HaM2zKv",
        "outputId": "001a27de-28f1-4a1a-c513-27e9d6a00396"
      },
      "execution_count": 183,
      "outputs": [
        {
          "output_type": "execute_result",
          "data": {
            "text/plain": [
              "Text(0.5, 1.0, 'Which type of parking option has more price')"
            ]
          },
          "metadata": {},
          "execution_count": 183
        },
        {
          "output_type": "display_data",
          "data": {
            "text/plain": [
              "<Figure size 720x504 with 1 Axes>"
            ],
            "image/png": "[encoded data removed]"
          },
          "metadata": {}
        }
      ]
    },
    {
      "cell_type": "code",
      "source": [
        "sns.barplot(x=df_p[\"type\"],y=df_p[\"sqfeet\"])\n",
        "fig = plt.gcf()\n",
        "fig.set_size_inches(10,8)\n",
        "plt.title('Which type of house has more sqfeet')"
      ],
      "metadata": {
        "colab": {
          "base_uri": "https://localhost:8080/",
          "height": 530
        },
        "id": "bdFknIIt26DH",
        "outputId": "a24213f7-5213-4f1f-a964-dafbaec06db5"
      },
      "execution_count": 184,
      "outputs": [
        {
          "output_type": "execute_result",
          "data": {
            "text/plain": [
              "Text(0.5, 1.0, 'Which type of house has more sqfeet')"
            ]
          },
          "metadata": {},
          "execution_count": 184
        },
        {
          "output_type": "display_data",
          "data": {
            "text/plain": [
              "<Figure size 720x576 with 1 Axes>"
            ],
            "image/png": "[encoded data removed]"
          },
          "metadata": {}
        }
      ]
    },
    {
      "cell_type": "code",
      "source": [
        "plt.figure(figsize=(8,7))\n",
        "\n",
        "sns.countplot(df_p['baths'])"
      ],
      "metadata": {
        "colab": {
          "base_uri": "https://localhost:8080/",
          "height": 514
        },
        "id": "JwynCBiC4_kQ",
        "outputId": "8fde46ff-26c9-4802-aa20-de74d876f905"
      },
      "execution_count": 185,
      "outputs": [
        {
          "output_type": "stream",
          "name": "stderr",
          "text": [
            "/usr/local/lib/python3.7/dist-packages/seaborn/_decorators.py:43: FutureWarning: Pass the following variable as a keyword arg: x. From version 0.12, the only valid positional argument will be `data`, and passing other arguments without an explicit keyword will result in an error or misinterpretation.\n",
            "  FutureWarning\n"
          ]
        },
        {
          "output_type": "execute_result",
          "data": {
            "text/plain": [
              "<matplotlib.axes._subplots.AxesSubplot at 0x7fba01b0c4d0>"
            ]
          },
          "metadata": {},
          "execution_count": 185
        },
        {
          "output_type": "display_data",
          "data": {
            "text/plain": [
              "<Figure size 576x504 with 1 Axes>"
            ],
            "image/png": "[encoded data removed]"
          },
          "metadata": {}
        }
      ]
    },
    {
      "cell_type": "code",
      "source": [
        "plt.figure(figsize=(8,7))\n",
        "\n",
        "sns.countplot(df_p['beds'])"
      ],
      "metadata": {
        "colab": {
          "base_uri": "https://localhost:8080/",
          "height": 514
        },
        "id": "3Brt2dQp6QR3",
        "outputId": "02f53949-c15b-407a-c335-41e7358cbf9f"
      },
      "execution_count": 186,
      "outputs": [
        {
          "output_type": "stream",
          "name": "stderr",
          "text": [
            "/usr/local/lib/python3.7/dist-packages/seaborn/_decorators.py:43: FutureWarning: Pass the following variable as a keyword arg: x. From version 0.12, the only valid positional argument will be `data`, and passing other arguments without an explicit keyword will result in an error or misinterpretation.\n",
            "  FutureWarning\n"
          ]
        },
        {
          "output_type": "execute_result",
          "data": {
            "text/plain": [
              "<matplotlib.axes._subplots.AxesSubplot at 0x7fba01218bd0>"
            ]
          },
          "metadata": {},
          "execution_count": 186
        },
        {
          "output_type": "display_data",
          "data": {
            "text/plain": [
              "<Figure size 576x504 with 1 Axes>"
            ],
            "image/png": "[encoded data removed]"
          },
          "metadata": {}
        }
      ]
    },
    {
      "cell_type": "code",
      "source": [
        "plt.figure(figsize=(7,7))\n",
        "\n",
        "sns.countplot(df_p['cats_allowed'])\n"
      ],
      "metadata": {
        "colab": {
          "base_uri": "https://localhost:8080/",
          "height": 515
        },
        "id": "lOH5p2v35YLF",
        "outputId": "64cfe335-9f4a-4da2-ed4a-c5b2ac16dcdd"
      },
      "execution_count": 187,
      "outputs": [
        {
          "output_type": "stream",
          "name": "stderr",
          "text": [
            "/usr/local/lib/python3.7/dist-packages/seaborn/_decorators.py:43: FutureWarning: Pass the following variable as a keyword arg: x. From version 0.12, the only valid positional argument will be `data`, and passing other arguments without an explicit keyword will result in an error or misinterpretation.\n",
            "  FutureWarning\n"
          ]
        },
        {
          "output_type": "execute_result",
          "data": {
            "text/plain": [
              "<matplotlib.axes._subplots.AxesSubplot at 0x7fba00a82dd0>"
            ]
          },
          "metadata": {},
          "execution_count": 187
        },
        {
          "output_type": "display_data",
          "data": {
            "text/plain": [
              "<Figure size 504x504 with 1 Axes>"
            ],
            "image/png": "[encoded data removed]"
          },
          "metadata": {}
        }
      ]
    },
    {
      "cell_type": "code",
      "source": [
        "plt.figure(figsize=(7,7))\n",
        "\n",
        "sns.countplot(df_p['dogs_allowed'])"
      ],
      "metadata": {
        "colab": {
          "base_uri": "https://localhost:8080/",
          "height": 515
        },
        "id": "ELwskOSL5--3",
        "outputId": "83f154f8-11ec-4d8c-8438-35081e994ff9"
      },
      "execution_count": 188,
      "outputs": [
        {
          "output_type": "stream",
          "name": "stderr",
          "text": [
            "/usr/local/lib/python3.7/dist-packages/seaborn/_decorators.py:43: FutureWarning: Pass the following variable as a keyword arg: x. From version 0.12, the only valid positional argument will be `data`, and passing other arguments without an explicit keyword will result in an error or misinterpretation.\n",
            "  FutureWarning\n"
          ]
        },
        {
          "output_type": "execute_result",
          "data": {
            "text/plain": [
              "<matplotlib.axes._subplots.AxesSubplot at 0x7fba0091dc90>"
            ]
          },
          "metadata": {},
          "execution_count": 188
        },
        {
          "output_type": "display_data",
          "data": {
            "text/plain": [
              "<Figure size 504x504 with 1 Axes>"
            ],
            "image/png": "[encoded data removed]"
          },
          "metadata": {}
        }
      ]
    },
    {
      "cell_type": "markdown",
      "source": [
        "**Statistics of the dataset**"
      ],
      "metadata": {
        "id": "Y4TnegcUpnKx"
      }
    },
    {
      "cell_type": "code",
      "source": [
        "#Checking data entries for each column\n",
        "df.select([\n",
        " 'beds',\n",
        " 'baths',\n",
        " 'cats_allowed',\n",
        " 'dogs_allowed',\n",
        " 'smoking_allowed',\n",
        " 'wheelchair_access',\n",
        " 'electric_vehicle_charge']).describe().show()"
      ],
      "metadata": {
        "colab": {
          "base_uri": "https://localhost:8080/"
        },
        "id": "owUwE842zWUA",
        "outputId": "383c08aa-96ce-4b16-e032-50681c525bc9"
      },
      "execution_count": 189,
      "outputs": [
        {
          "output_type": "stream",
          "name": "stdout",
          "text": [
            "+-------+-----------------+------------------+------------------+------------------+-------------------+-------------------+-----------------------+\n",
            "|summary|             beds|             baths|      cats_allowed|      dogs_allowed|    smoking_allowed|  wheelchair_access|electric_vehicle_charge|\n",
            "+-------+-----------------+------------------+------------------+------------------+-------------------+-------------------+-----------------------+\n",
            "|  count|            50000|             50000|             50000|             50000|              50000|              50000|                  50000|\n",
            "|   mean|          1.85118|            1.4633|             0.705|           0.68808|            0.70926|            0.08478|                0.02734|\n",
            "| stddev|4.552068434694357|0.6158089755873081|0.4560473216489598|0.4632819942584917|0.45410833144474855|0.27855682270960314|    0.16307377551625216|\n",
            "|    min|                0|                 0|                 0|                 0|                  0|                  0|                      0|\n",
            "|    max|             1000|                35|                 1|                 1|                  1|                  1|                      1|\n",
            "+-------+-----------------+------------------+------------------+------------------+-------------------+-------------------+-----------------------+\n",
            "\n"
          ]
        }
      ]
    },
    {
      "cell_type": "markdown",
      "source": [
        "**Drop unwanted columns**"
      ],
      "metadata": {
        "id": "QbZS1aXUpqmZ"
      }
    },
    {
      "cell_type": "code",
      "source": [
        "df=df.drop(\"id\",\"url\",\"region_url\",\"image_url\",\"description\",'state')"
      ],
      "metadata": {
        "id": "Ij5dNEHMOc8H"
      },
      "execution_count": 190,
      "outputs": []
    },
    {
      "cell_type": "markdown",
      "source": [
        "**Handle missing values**"
      ],
      "metadata": {
        "id": "GzDbvFoAqcQg"
      }
    },
    {
      "cell_type": "markdown",
      "source": [
        "**Count the number of null values in each column using isnull() and display it.**"
      ],
      "metadata": {
        "id": "qG55vkco0Oix"
      }
    },
    {
      "cell_type": "code",
      "source": [
        "from pyspark.sql.functions import *\n",
        "df.select([count(when(isnull(c), c))\\\n",
        ".alias(c) for c in df.columns]).show()"
      ],
      "metadata": {
        "colab": {
          "base_uri": "https://localhost:8080/"
        },
        "id": "F_ulKRA61Oy_",
        "outputId": "159ad196-05b2-4e46-bd15-40e16553c4a0"
      },
      "execution_count": 191,
      "outputs": [
        {
          "output_type": "stream",
          "name": "stdout",
          "text": [
            "+------+-----+----+------+----+-----+------------+------------+---------------+-----------------+-----------------------+---------------+---------------+---------------+---+----+\n",
            "|region|price|type|sqfeet|beds|baths|cats_allowed|dogs_allowed|smoking_allowed|wheelchair_access|electric_vehicle_charge|comes_furnished|laundry_options|parking_options|lat|long|\n",
            "+------+-----+----+------+----+-----+------------+------------+---------------+-----------------+-----------------------+---------------+---------------+---------------+---+----+\n",
            "|     0|    0|   0|     0|   0|    0|           0|           0|              0|                0|                      0|              0|          11487|          19039|193| 193|\n",
            "+------+-----+----+------+----+-----+------------+------------+---------------+-----------------+-----------------------+---------------+---------------+---------------+---+----+\n",
            "\n"
          ]
        }
      ]
    },
    {
      "cell_type": "markdown",
      "source": [
        "**Value counts of two columns**"
      ],
      "metadata": {
        "id": "6ie7vpe_qOKi"
      }
    },
    {
      "cell_type": "code",
      "source": [
        "df.select('laundry_options').show(5)\n",
        "\n",
        "df.select('parking_options').show(5)"
      ],
      "metadata": {
        "id": "__kFDM2K1w6n",
        "colab": {
          "base_uri": "https://localhost:8080/"
        },
        "outputId": "742433c7-a050-4974-e56f-68a127bf50a3"
      },
      "execution_count": 192,
      "outputs": [
        {
          "output_type": "stream",
          "name": "stdout",
          "text": [
            "+---------------+\n",
            "|laundry_options|\n",
            "+---------------+\n",
            "|    w/d in unit|\n",
            "|    w/d hookups|\n",
            "|    w/d in unit|\n",
            "|    w/d in unit|\n",
            "|laundry on site|\n",
            "+---------------+\n",
            "only showing top 5 rows\n",
            "\n",
            "+---------------+\n",
            "|parking_options|\n",
            "+---------------+\n",
            "|        carport|\n",
            "|        carport|\n",
            "|attached garage|\n",
            "|        carport|\n",
            "|           null|\n",
            "+---------------+\n",
            "only showing top 5 rows\n",
            "\n"
          ]
        }
      ]
    },
    {
      "cell_type": "markdown",
      "source": [
        "**Fill missing values of two columns**"
      ],
      "metadata": {
        "id": "H-53bHd_qTga"
      }
    },
    {
      "cell_type": "code",
      "source": [
        "#replace null values in the column with the mode value\n",
        "df= df.fillna({'laundry_options': 'w/d in unit','parking_options': 'carport'})\n",
        "df.select([count(when(isnull(c), c))\\\n",
        ".alias(c) for c in df.columns]).show()\n",
        "\n"
      ],
      "metadata": {
        "colab": {
          "base_uri": "https://localhost:8080/"
        },
        "id": "Vfozx3EBqErS",
        "outputId": "8cbdbeb8-30d0-4456-a95f-adb8c011645e"
      },
      "execution_count": 194,
      "outputs": [
        {
          "output_type": "stream",
          "name": "stdout",
          "text": [
            "+------+-----+----+------+----+-----+------------+------------+---------------+-----------------+-----------------------+---------------+---------------+---------------+---+----+\n",
            "|region|price|type|sqfeet|beds|baths|cats_allowed|dogs_allowed|smoking_allowed|wheelchair_access|electric_vehicle_charge|comes_furnished|laundry_options|parking_options|lat|long|\n",
            "+------+-----+----+------+----+-----+------------+------------+---------------+-----------------+-----------------------+---------------+---------------+---------------+---+----+\n",
            "|     0|    0|   0|     0|   0|    0|           0|           0|              0|                0|                      0|              0|              0|              0|193| 193|\n",
            "+------+-----+----+------+----+-----+------------+------------+---------------+-----------------+-----------------------+---------------+---------------+---------------+---+----+\n",
            "\n"
          ]
        }
      ]
    },
    {
      "cell_type": "code",
      "source": [
        "df=df.dropna()"
      ],
      "metadata": {
        "id": "v7ZjwjVQYhCZ"
      },
      "execution_count": 195,
      "outputs": []
    },
    {
      "cell_type": "code",
      "source": [
        "from pyspark.sql.functions import *\n",
        "df.select([count(when(isnull(c), c))\\\n",
        ".alias(c) for c in df.columns]).show()"
      ],
      "metadata": {
        "colab": {
          "base_uri": "https://localhost:8080/"
        },
        "id": "MSSmsBA0I2oa",
        "outputId": "0e558e62-4950-4b8f-932e-be3bc2025093"
      },
      "execution_count": 196,
      "outputs": [
        {
          "output_type": "stream",
          "name": "stdout",
          "text": [
            "+------+-----+----+------+----+-----+------------+------------+---------------+-----------------+-----------------------+---------------+---------------+---------------+---+----+\n",
            "|region|price|type|sqfeet|beds|baths|cats_allowed|dogs_allowed|smoking_allowed|wheelchair_access|electric_vehicle_charge|comes_furnished|laundry_options|parking_options|lat|long|\n",
            "+------+-----+----+------+----+-----+------------+------------+---------------+-----------------+-----------------------+---------------+---------------+---------------+---+----+\n",
            "|     0|    0|   0|     0|   0|    0|           0|           0|              0|                0|                      0|              0|              0|              0|  0|   0|\n",
            "+------+-----+----+------+----+-----+------------+------------+---------------+-----------------+-----------------------+---------------+---------------+---------------+---+----+\n",
            "\n"
          ]
        }
      ]
    },
    {
      "cell_type": "code",
      "source": [
        "df.printSchema()"
      ],
      "metadata": {
        "colab": {
          "base_uri": "https://localhost:8080/"
        },
        "id": "8er7wZNx9Zma",
        "outputId": "c428a908-7935-48f4-a916-2dd6a330d766"
      },
      "execution_count": 197,
      "outputs": [
        {
          "output_type": "stream",
          "name": "stdout",
          "text": [
            "root\n",
            " |-- region: string (nullable = true)\n",
            " |-- price: integer (nullable = true)\n",
            " |-- type: string (nullable = true)\n",
            " |-- sqfeet: integer (nullable = true)\n",
            " |-- beds: integer (nullable = true)\n",
            " |-- baths: integer (nullable = true)\n",
            " |-- cats_allowed: integer (nullable = true)\n",
            " |-- dogs_allowed: integer (nullable = true)\n",
            " |-- smoking_allowed: integer (nullable = true)\n",
            " |-- wheelchair_access: integer (nullable = true)\n",
            " |-- electric_vehicle_charge: integer (nullable = true)\n",
            " |-- comes_furnished: integer (nullable = true)\n",
            " |-- laundry_options: string (nullable = false)\n",
            " |-- parking_options: string (nullable = false)\n",
            " |-- lat: string (nullable = true)\n",
            " |-- long: string (nullable = true)\n",
            "\n"
          ]
        }
      ]
    },
    {
      "cell_type": "markdown",
      "source": [
        "**Label encoding by using string indexer**"
      ],
      "metadata": {
        "id": "psLZB-eaq4sL"
      }
    },
    {
      "cell_type": "code",
      "source": [
        "indexer = StringIndexer(inputCol=\"region\", outputCol=\"region_index\") \n",
        "df = indexer.fit(df).transform(df)\n",
        "df = df.drop('region')\n",
        "df.select('region_index').show(3)"
      ],
      "metadata": {
        "colab": {
          "base_uri": "https://localhost:8080/"
        },
        "id": "VmVT1YCLKCL0",
        "outputId": "94f787fd-902b-4012-9d92-93c325ebb413"
      },
      "execution_count": 198,
      "outputs": [
        {
          "output_type": "stream",
          "name": "stdout",
          "text": [
            "+------------+\n",
            "|region_index|\n",
            "+------------+\n",
            "|        19.0|\n",
            "|        19.0|\n",
            "|        19.0|\n",
            "+------------+\n",
            "only showing top 3 rows\n",
            "\n"
          ]
        }
      ]
    },
    {
      "cell_type": "code",
      "source": [
        "indexer = StringIndexer(inputCol=\"type\", outputCol=\"type_index\") \n",
        "df = indexer.fit(df).transform(df)\n",
        "df = df.drop('type')\n",
        "df.select('type_index').show(3)"
      ],
      "metadata": {
        "colab": {
          "base_uri": "https://localhost:8080/"
        },
        "id": "Ylg-bibKKpxC",
        "outputId": "dc6674d6-5a06-4286-dd34-ffd05de33030"
      },
      "execution_count": 199,
      "outputs": [
        {
          "output_type": "stream",
          "name": "stdout",
          "text": [
            "+----------+\n",
            "|type_index|\n",
            "+----------+\n",
            "|       0.0|\n",
            "|       3.0|\n",
            "|       0.0|\n",
            "+----------+\n",
            "only showing top 3 rows\n",
            "\n"
          ]
        }
      ]
    },
    {
      "cell_type": "code",
      "source": [
        "indexer = StringIndexer(inputCol=\"laundry_options\", outputCol=\"laundry_options_index\") \n",
        "df = indexer.fit(df).transform(df)\n",
        "df = df.drop('laundry_options')\n",
        "df.select('laundry_options_index').show(3)"
      ],
      "metadata": {
        "colab": {
          "base_uri": "https://localhost:8080/"
        },
        "id": "DVrOQjb9LI7T",
        "outputId": "a1a108e3-98e5-4223-9663-82bc4d42f213"
      },
      "execution_count": 200,
      "outputs": [
        {
          "output_type": "stream",
          "name": "stdout",
          "text": [
            "+---------------------+\n",
            "|laundry_options_index|\n",
            "+---------------------+\n",
            "|                  0.0|\n",
            "|                  2.0|\n",
            "|                  0.0|\n",
            "+---------------------+\n",
            "only showing top 3 rows\n",
            "\n"
          ]
        }
      ]
    },
    {
      "cell_type": "code",
      "source": [
        "indexer = StringIndexer(inputCol=\"parking_options\", outputCol=\"parking_options_index\") \n",
        "df = indexer.fit(df).transform(df)\n",
        "df = df.drop('parking_options')\n",
        "df.select('parking_options_index').show(3)"
      ],
      "metadata": {
        "colab": {
          "base_uri": "https://localhost:8080/"
        },
        "id": "90CORfj2LTjo",
        "outputId": "81928786-cefd-4b2d-9584-e8dbccba3bce"
      },
      "execution_count": 201,
      "outputs": [
        {
          "output_type": "stream",
          "name": "stdout",
          "text": [
            "+---------------------+\n",
            "|parking_options_index|\n",
            "+---------------------+\n",
            "|                  0.0|\n",
            "|                  0.0|\n",
            "|                  2.0|\n",
            "+---------------------+\n",
            "only showing top 3 rows\n",
            "\n"
          ]
        }
      ]
    },
    {
      "cell_type": "code",
      "source": [
        "indexer = StringIndexer(inputCol=\"lat\", outputCol=\"lat_index\") \n",
        "df = indexer.fit(df).transform(df)\n",
        "df = df.drop('lat')\n",
        "df.select('lat_index').show(3)"
      ],
      "metadata": {
        "colab": {
          "base_uri": "https://localhost:8080/"
        },
        "id": "7FCEBF4mL_xy",
        "outputId": "4e2eb6f1-cfa0-4fdf-fb35-0eee22b00dfa"
      },
      "execution_count": 202,
      "outputs": [
        {
          "output_type": "stream",
          "name": "stdout",
          "text": [
            "+---------+\n",
            "|lat_index|\n",
            "+---------+\n",
            "|    387.0|\n",
            "|   7907.0|\n",
            "|    137.0|\n",
            "+---------+\n",
            "only showing top 3 rows\n",
            "\n"
          ]
        }
      ]
    },
    {
      "cell_type": "code",
      "source": [
        "indexer = StringIndexer(inputCol=\"long\", outputCol=\"long_index\") \n",
        "df = indexer.fit(df).transform(df)\n",
        "df = df.drop('long')\n",
        "df.select('long_index').show(3)"
      ],
      "metadata": {
        "colab": {
          "base_uri": "https://localhost:8080/"
        },
        "id": "NHXDQLNPMIIv",
        "outputId": "836b5d84-73e4-43c5-f1cf-5bb7f37c8b50"
      },
      "execution_count": 203,
      "outputs": [
        {
          "output_type": "stream",
          "name": "stdout",
          "text": [
            "+----------+\n",
            "|long_index|\n",
            "+----------+\n",
            "|     443.0|\n",
            "|    4548.0|\n",
            "|      95.0|\n",
            "+----------+\n",
            "only showing top 3 rows\n",
            "\n"
          ]
        }
      ]
    },
    {
      "cell_type": "markdown",
      "source": [
        "**Dataframe after using string indexer**"
      ],
      "metadata": {
        "id": "I5qwPR4pq_17"
      }
    },
    {
      "cell_type": "code",
      "source": [
        "df.show()"
      ],
      "metadata": {
        "colab": {
          "base_uri": "https://localhost:8080/"
        },
        "id": "i0Qjlt0cRJoO",
        "outputId": "cc085c0c-fd0f-4af7-b50c-af0789997c81"
      },
      "execution_count": 204,
      "outputs": [
        {
          "output_type": "stream",
          "name": "stdout",
          "text": [
            "+-----+------+----+-----+------------+------------+---------------+-----------------+-----------------------+---------------+------------+----------+---------------------+---------------------+---------+----------+\n",
            "|price|sqfeet|beds|baths|cats_allowed|dogs_allowed|smoking_allowed|wheelchair_access|electric_vehicle_charge|comes_furnished|region_index|type_index|laundry_options_index|parking_options_index|lat_index|long_index|\n",
            "+-----+------+----+-----+------------+------------+---------------+-----------------+-----------------------+---------------+------------+----------+---------------------+---------------------+---------+----------+\n",
            "| 1148|  1078|   3|    2|           1|           1|              0|                0|                      0|              0|        19.0|       0.0|                  0.0|                  0.0|    387.0|     443.0|\n",
            "| 1200|  1001|   2|    2|           0|           0|              0|                0|                      0|              0|        19.0|       3.0|                  2.0|                  0.0|   7907.0|    4548.0|\n",
            "| 1813|  1683|   2|    2|           1|           1|              1|                0|                      0|              0|        19.0|       0.0|                  0.0|                  2.0|    137.0|      95.0|\n",
            "| 1095|   708|   1|    1|           1|           1|              1|                0|                      0|              0|        19.0|       0.0|                  0.0|                  0.0|    253.0|     271.0|\n",
            "|  289|   250|   0|    1|           1|           1|              1|                1|                      0|              1|        19.0|       0.0|                  1.0|                  0.0|    407.0|     470.0|\n",
            "| 1093|   720|   1|    1|           1|           1|              1|                0|                      0|              0|        19.0|       0.0|                  3.0|                  0.0|    423.0|     140.0|\n",
            "|  935|   661|   1|    1|           1|           1|              1|                0|                      0|              0|        19.0|       0.0|                  1.0|                  1.0|   7911.0|    1398.0|\n",
            "| 1095|   708|   1|    1|           1|           1|              1|                0|                      0|              0|        19.0|       0.0|                  0.0|                  0.0|    253.0|     271.0|\n",
            "| 1525|  1053|   2|    2|           1|           1|              0|                0|                      0|              0|        19.0|       0.0|                  0.0|                  0.0|   1394.0|     331.0|\n",
            "| 1295|   930|   2|    2|           0|           0|              0|                0|                      0|              0|        19.0|       3.0|                  0.0|                  0.0|    189.0|    1840.0|\n",
            "| 1086|   720|   1|    1|           0|           0|              1|                0|                      0|              0|        19.0|       0.0|                  0.0|                  0.0|    423.0|     140.0|\n",
            "| 2195|  3115|   4|    3|           0|           0|              0|                0|                      0|              0|        19.0|       1.0|                  2.0|                  2.0|   1954.0|    1834.0|\n",
            "| 1159|  1181|   3|    2|           1|           1|              1|                0|                      0|              0|        19.0|       0.0|                  0.0|                  0.0|   7949.0|    4564.0|\n",
            "| 1349|   766|   1|    1|           1|           1|              0|                0|                      0|              0|        19.0|       0.0|                  0.0|                  0.0|     84.0|      28.0|\n",
            "| 1449|   764|   1|    1|           1|           1|              1|                0|                      0|              0|        19.0|       0.0|                  0.0|                  1.0|    356.0|     352.0|\n",
            "| 1295|   951|   2|    2|           0|           0|              0|                0|                      0|              0|        19.0|       0.0|                  0.0|                  1.0|    840.0|     879.0|\n",
            "|  982|   919|   2|    2|           1|           1|              0|                0|                      0|              0|        19.0|       0.0|                  0.0|                  0.0|    387.0|     443.0|\n",
            "| 1895|  1193|   2|    2|           1|           1|              0|                0|                      0|              0|        19.0|       0.0|                  0.0|                  2.0|   7861.0|     810.0|\n",
            "| 1495|  1192|   3|    1|           1|           1|              0|                0|                      0|              0|        19.0|       4.0|                  2.0|                  3.0|   3612.0|    1135.0|\n",
            "| 1899|  1600|   3|    2|           0|           0|              0|                0|                      0|              0|        19.0|       1.0|                  0.0|                  2.0|   7969.0|    1584.0|\n",
            "+-----+------+----+-----+------------+------------+---------------+-----------------+-----------------------+---------------+------------+----------+---------------------+---------------------+---------+----------+\n",
            "only showing top 20 rows\n",
            "\n"
          ]
        }
      ]
    },
    {
      "cell_type": "markdown",
      "source": [
        "**Print schema after using string indexer**"
      ],
      "metadata": {
        "id": "FCFtjuSSrIrJ"
      }
    },
    {
      "cell_type": "code",
      "source": [
        "df.printSchema()"
      ],
      "metadata": {
        "colab": {
          "base_uri": "https://localhost:8080/"
        },
        "id": "AhMm_zS-_WtR",
        "outputId": "e71ba1bc-4b8f-473a-bdc4-545454f42f49"
      },
      "execution_count": 205,
      "outputs": [
        {
          "output_type": "stream",
          "name": "stdout",
          "text": [
            "root\n",
            " |-- price: integer (nullable = true)\n",
            " |-- sqfeet: integer (nullable = true)\n",
            " |-- beds: integer (nullable = true)\n",
            " |-- baths: integer (nullable = true)\n",
            " |-- cats_allowed: integer (nullable = true)\n",
            " |-- dogs_allowed: integer (nullable = true)\n",
            " |-- smoking_allowed: integer (nullable = true)\n",
            " |-- wheelchair_access: integer (nullable = true)\n",
            " |-- electric_vehicle_charge: integer (nullable = true)\n",
            " |-- comes_furnished: integer (nullable = true)\n",
            " |-- region_index: double (nullable = false)\n",
            " |-- type_index: double (nullable = false)\n",
            " |-- laundry_options_index: double (nullable = false)\n",
            " |-- parking_options_index: double (nullable = false)\n",
            " |-- lat_index: double (nullable = false)\n",
            " |-- long_index: double (nullable = false)\n",
            "\n"
          ]
        }
      ]
    },
    {
      "cell_type": "markdown",
      "source": [
        "**Use Vector Assembler**"
      ],
      "metadata": {
        "id": "g7kn8i0ZrcGx"
      }
    },
    {
      "cell_type": "code",
      "source": [
        "\n",
        "from pyspark.ml.feature import VectorAssembler\n",
        "\n",
        "# convert to vector column first\n",
        "assembler = VectorAssembler(inputCols=df.columns, outputCol=\"features\")\n",
        "df_vector = assembler.transform(df).select(\"features\")"
      ],
      "metadata": {
        "id": "3tNW2xl36TG0"
      },
      "execution_count": 208,
      "outputs": []
    },
    {
      "cell_type": "code",
      "source": [
        "df.columns"
      ],
      "metadata": {
        "colab": {
          "base_uri": "https://localhost:8080/"
        },
        "id": "IcXGRSbkWYx1",
        "outputId": "b0dd36a7-ceaf-46f1-8db2-58c91cd957cb"
      },
      "execution_count": 209,
      "outputs": [
        {
          "output_type": "execute_result",
          "data": {
            "text/plain": [
              "['price',\n",
              " 'sqfeet',\n",
              " 'beds',\n",
              " 'baths',\n",
              " 'cats_allowed',\n",
              " 'dogs_allowed',\n",
              " 'smoking_allowed',\n",
              " 'wheelchair_access',\n",
              " 'electric_vehicle_charge',\n",
              " 'comes_furnished',\n",
              " 'region_index',\n",
              " 'type_index',\n",
              " 'laundry_options_index',\n",
              " 'parking_options_index',\n",
              " 'lat_index',\n",
              " 'long_index']"
            ]
          },
          "metadata": {},
          "execution_count": 209
        }
      ]
    },
    {
      "cell_type": "markdown",
      "source": [
        "**Select important features for Modeling**"
      ],
      "metadata": {
        "id": "yIxHvDRDrhcp"
      }
    },
    {
      "cell_type": "code",
      "source": [
        "\n",
        "df_model = df.select(['price','sqfeet','beds','baths','region_index','type_index','laundry_options_index','parking_options_index','lat_index','long_index'])\n",
        "df_model.show(3)"
      ],
      "metadata": {
        "colab": {
          "base_uri": "https://localhost:8080/"
        },
        "id": "V2xc1qC7VeOg",
        "outputId": "31cbc80b-10e2-4f91-bf56-7af61ef23d64"
      },
      "execution_count": 210,
      "outputs": [
        {
          "output_type": "stream",
          "name": "stdout",
          "text": [
            "+-----+------+----+-----+------------+----------+---------------------+---------------------+---------+----------+\n",
            "|price|sqfeet|beds|baths|region_index|type_index|laundry_options_index|parking_options_index|lat_index|long_index|\n",
            "+-----+------+----+-----+------------+----------+---------------------+---------------------+---------+----------+\n",
            "| 1148|  1078|   3|    2|        19.0|       0.0|                  0.0|                  0.0|    387.0|     443.0|\n",
            "| 1200|  1001|   2|    2|        19.0|       3.0|                  2.0|                  0.0|   7907.0|    4548.0|\n",
            "| 1813|  1683|   2|    2|        19.0|       0.0|                  0.0|                  2.0|    137.0|      95.0|\n",
            "+-----+------+----+-----+------------+----------+---------------------+---------------------+---------+----------+\n",
            "only showing top 3 rows\n",
            "\n"
          ]
        }
      ]
    },
    {
      "cell_type": "code",
      "source": [
        "#Assembling features\n",
        "feature_assembly = VectorAssembler(inputCols = ['price','sqfeet','beds','baths','region_index','type_index','laundry_options_index','parking_options_index','lat_index','long_index'], outputCol = 'features')\n",
        "output = feature_assembly.transform(df)\n",
        "output.show(3)"
      ],
      "metadata": {
        "colab": {
          "base_uri": "https://localhost:8080/"
        },
        "id": "MX78JLRWW48a",
        "outputId": "13a1743a-7a8a-428b-cd36-7ca93653b3af"
      },
      "execution_count": 211,
      "outputs": [
        {
          "output_type": "stream",
          "name": "stdout",
          "text": [
            "+-----+------+----+-----+------------+------------+---------------+-----------------+-----------------------+---------------+------------+----------+---------------------+---------------------+---------+----------+--------------------+\n",
            "|price|sqfeet|beds|baths|cats_allowed|dogs_allowed|smoking_allowed|wheelchair_access|electric_vehicle_charge|comes_furnished|region_index|type_index|laundry_options_index|parking_options_index|lat_index|long_index|            features|\n",
            "+-----+------+----+-----+------------+------------+---------------+-----------------+-----------------------+---------------+------------+----------+---------------------+---------------------+---------+----------+--------------------+\n",
            "| 1148|  1078|   3|    2|           1|           1|              0|                0|                      0|              0|        19.0|       0.0|                  0.0|                  0.0|    387.0|     443.0|[1148.0,1078.0,3....|\n",
            "| 1200|  1001|   2|    2|           0|           0|              0|                0|                      0|              0|        19.0|       3.0|                  2.0|                  0.0|   7907.0|    4548.0|[1200.0,1001.0,2....|\n",
            "| 1813|  1683|   2|    2|           1|           1|              1|                0|                      0|              0|        19.0|       0.0|                  0.0|                  2.0|    137.0|      95.0|[1813.0,1683.0,2....|\n",
            "+-----+------+----+-----+------------+------------+---------------+-----------------+-----------------------+---------------+------------+----------+---------------------+---------------------+---------+----------+--------------------+\n",
            "only showing top 3 rows\n",
            "\n"
          ]
        }
      ]
    },
    {
      "cell_type": "markdown",
      "source": [
        "**Data Normalization**"
      ],
      "metadata": {
        "id": "EW0iPqXUrua4"
      }
    },
    {
      "cell_type": "code",
      "source": [
        "#Normalizing the features\n",
        "from pyspark.ml.feature import StandardScaler\n",
        "\n",
        "scaler = StandardScaler(inputCol=\"features\", outputCol=\"scaledFeatures\",\n",
        "                        withStd=True, withMean=False)\n",
        "\n",
        "# Compute summary statistics by fitting the StandardScaler\n",
        "scalerModel = scaler.fit(output)\n",
        "\n",
        "# Normalize each feature to have unit standard deviation.\n",
        "scaledOutput = scalerModel.transform(output)\n",
        "scaledOutput.show(3)"
      ],
      "metadata": {
        "colab": {
          "base_uri": "https://localhost:8080/"
        },
        "id": "vl0pkdCNXNnI",
        "outputId": "27841ae5-20ac-4303-ff9a-6325d841c6a5"
      },
      "execution_count": 212,
      "outputs": [
        {
          "output_type": "stream",
          "name": "stdout",
          "text": [
            "+-----+------+----+-----+------------+------------+---------------+-----------------+-----------------------+---------------+------------+----------+---------------------+---------------------+---------+----------+--------------------+--------------------+\n",
            "|price|sqfeet|beds|baths|cats_allowed|dogs_allowed|smoking_allowed|wheelchair_access|electric_vehicle_charge|comes_furnished|region_index|type_index|laundry_options_index|parking_options_index|lat_index|long_index|            features|      scaledFeatures|\n",
            "+-----+------+----+-----+------------+------------+---------------+-----------------+-----------------------+---------------+------------+----------+---------------------+---------------------+---------+----------+--------------------+--------------------+\n",
            "| 1148|  1078|   3|    2|           1|           1|              0|                0|                      0|              0|        19.0|       0.0|                  0.0|                  0.0|    387.0|     443.0|[1148.0,1078.0,3....|[0.01447865168250...|\n",
            "| 1200|  1001|   2|    2|           0|           0|              0|                0|                      0|              0|        19.0|       3.0|                  2.0|                  0.0|   7907.0|    4548.0|[1200.0,1001.0,2....|[0.01513447911063...|\n",
            "| 1813|  1683|   2|    2|           1|           1|              1|                0|                      0|              0|        19.0|       0.0|                  0.0|                  2.0|    137.0|      95.0|[1813.0,1683.0,2....|[0.02286567552297...|\n",
            "+-----+------+----+-----+------------+------------+---------------+-----------------+-----------------------+---------------+------------+----------+---------------------+---------------------+---------+----------+--------------------+--------------------+\n",
            "only showing top 3 rows\n",
            "\n"
          ]
        }
      ]
    },
    {
      "cell_type": "code",
      "source": [
        "#Selecting input and output column from output\n",
        "df_model_final = scaledOutput.select(['price', 'scaledFeatures'])\n",
        "df_model_final.show(3)"
      ],
      "metadata": {
        "colab": {
          "base_uri": "https://localhost:8080/"
        },
        "id": "LHDT9JKnXetw",
        "outputId": "5b2ca049-6c90-4cec-feb4-358dcd2e69e0"
      },
      "execution_count": 213,
      "outputs": [
        {
          "output_type": "stream",
          "name": "stdout",
          "text": [
            "+-----+--------------------+\n",
            "|price|      scaledFeatures|\n",
            "+-----+--------------------+\n",
            "| 1148|[0.01447865168250...|\n",
            "| 1200|[0.01513447911063...|\n",
            "| 1813|[0.02286567552297...|\n",
            "+-----+--------------------+\n",
            "only showing top 3 rows\n",
            "\n"
          ]
        }
      ]
    },
    {
      "cell_type": "markdown",
      "source": [
        "**Linear Regression**"
      ],
      "metadata": {
        "id": "dQxX2o67ry2B"
      }
    },
    {
      "cell_type": "code",
      "source": [
        "from pyspark.ml.regression import LinearRegression \n",
        "\n",
        "#test train split\n",
        "df_train, df_test = df_model_final.randomSplit([0.75, 0.25])\n",
        "regressor = LinearRegression(featuresCol = 'scaledFeatures', labelCol = 'price')\n",
        "regressor = regressor.fit(df_train)"
      ],
      "metadata": {
        "id": "_wBJQ3A0Xfiy"
      },
      "execution_count": 214,
      "outputs": []
    },
    {
      "cell_type": "markdown",
      "source": [
        "**Prediction on test data**"
      ],
      "metadata": {
        "id": "V9GJO63yr3WE"
      }
    },
    {
      "cell_type": "code",
      "source": [
        "#make predictions on the test set\n",
        "predictions= regressor.transform(df_test)\n",
        "# show the predicted values and the actual values\n",
        "predictions.select('prediction' ,'price').show(20)"
      ],
      "metadata": {
        "id": "Zd6jVLrHZ3aY",
        "outputId": "b9466842-bbd1-41da-9cb5-9f9fcc288456",
        "colab": {
          "base_uri": "https://localhost:8080/"
        }
      },
      "execution_count": 215,
      "outputs": [
        {
          "output_type": "stream",
          "name": "stdout",
          "text": [
            "+--------------------+-----+\n",
            "|          prediction|price|\n",
            "+--------------------+-----+\n",
            "|1.353197097447880...|    0|\n",
            "|1.735943021449828...|    0|\n",
            "|1.445566193030284...|    0|\n",
            "|1.445566193030284...|    0|\n",
            "|1.445566193030284...|    0|\n",
            "|-2.40118420982515...|    0|\n",
            "|-2.40118420982515...|    0|\n",
            "|-2.76162075258981...|    0|\n",
            "|-2.76162075258981...|    0|\n",
            "|  1.0000000000710403|    1|\n",
            "|  0.9999999999725656|    1|\n",
            "|  0.9999999999725656|    1|\n",
            "|  0.9999999999725656|    1|\n",
            "|  0.9999999999725656|    1|\n",
            "|  0.9999999998983568|    1|\n",
            "|  0.9999999998622879|    1|\n",
            "|   4.999999999711918|    5|\n",
            "|   40.00000000030009|   40|\n",
            "|   39.99999999999005|   40|\n",
            "|   70.00000000019907|   70|\n",
            "+--------------------+-----+\n",
            "only showing top 20 rows\n",
            "\n"
          ]
        }
      ]
    },
    {
      "cell_type": "code",
      "source": [
        "predictions.show()"
      ],
      "metadata": {
        "colab": {
          "base_uri": "https://localhost:8080/"
        },
        "id": "erRCgq6IeCcQ",
        "outputId": "9c0157c5-d2a0-4f0f-e665-b4b7691bd9df"
      },
      "execution_count": 216,
      "outputs": [
        {
          "output_type": "stream",
          "name": "stdout",
          "text": [
            "+-----+--------------------+--------------------+\n",
            "|price|      scaledFeatures|          prediction|\n",
            "+-----+--------------------+--------------------+\n",
            "|    0|[0.0,0.0632539075...|1.353197097447880...|\n",
            "|    0|[0.0,0.0759046891...|1.735943021449828...|\n",
            "|    0|[0.0,0.0965254629...|1.445566193030284...|\n",
            "|    0|[0.0,0.0965254629...|1.445566193030284...|\n",
            "|    0|[0.0,0.0965254629...|1.445566193030284...|\n",
            "|    0|[0.0,0.1401706592...|-2.40118420982515...|\n",
            "|    0|[0.0,0.1401706592...|-2.40118420982515...|\n",
            "|    0|[0.0,0.1631950815...|-2.76162075258981...|\n",
            "|    0|[0.0,0.1631950815...|-2.76162075258981...|\n",
            "|    1|[1.26120659255264...|  1.0000000000710403|\n",
            "|    1|[1.26120659255264...|  0.9999999999725656|\n",
            "|    1|[1.26120659255264...|  0.9999999999725656|\n",
            "|    1|[1.26120659255264...|  0.9999999999725656|\n",
            "|    1|[1.26120659255264...|  0.9999999999725656|\n",
            "|    1|[1.26120659255264...|  0.9999999998983568|\n",
            "|    1|[1.26120659255264...|  0.9999999998622879|\n",
            "|    5|[6.30603296276320...|   4.999999999711918|\n",
            "|   40|[5.04482637021056...|   40.00000000030009|\n",
            "|   40|[5.04482637021056...|   39.99999999999005|\n",
            "|   70|[8.82844614786848...|   70.00000000019907|\n",
            "+-----+--------------------+--------------------+\n",
            "only showing top 20 rows\n",
            "\n"
          ]
        }
      ]
    },
    {
      "cell_type": "markdown",
      "source": [
        "**Evaluation metrics**"
      ],
      "metadata": {
        "id": "zcsmZT5xr65A"
      }
    },
    {
      "cell_type": "markdown",
      "source": [
        "**R2 Score**"
      ],
      "metadata": {
        "id": "AIf4AR7gr9ch"
      }
    },
    {
      "cell_type": "code",
      "source": [
        "#R2 score on test set\n",
        "r2_test= regressor.evaluate(df_test).r2\n",
        "print('R2 score on test set: ', r2_test)"
      ],
      "metadata": {
        "id": "cZcr-YKIblio",
        "outputId": "c2bb378f-5743-46e7-c37b-0911f033e533",
        "colab": {
          "base_uri": "https://localhost:8080/"
        }
      },
      "execution_count": 217,
      "outputs": [
        {
          "output_type": "stream",
          "name": "stdout",
          "text": [
            "R2 score on test set:  1.0\n"
          ]
        }
      ]
    },
    {
      "cell_type": "markdown",
      "source": [
        "**RMSE**"
      ],
      "metadata": {
        "id": "l5M_GPvPr_u2"
      }
    },
    {
      "cell_type": "code",
      "source": [
        "#RMSE on test set\n",
        "evaluator = RegressionEvaluator(predictionCol='prediction', labelCol='price',metricName='rmse')\n",
        "rmse_test = evaluator.evaluate(predictions)\n",
        "print('RMSE on test set: ', rmse_test)"
      ],
      "metadata": {
        "id": "GL0r2fhzb5u3",
        "outputId": "7e4421d1-a82c-4787-9cf6-baab0c3aa3d0",
        "colab": {
          "base_uri": "https://localhost:8080/"
        }
      },
      "execution_count": 218,
      "outputs": [
        {
          "output_type": "stream",
          "name": "stdout",
          "text": [
            "RMSE on test set:  4.71839693892618e-10\n"
          ]
        }
      ]
    },
    {
      "cell_type": "markdown",
      "source": [
        "**Unsupervised Learning**"
      ],
      "metadata": {
        "id": "4JAPMEyXVTCc"
      }
    },
    {
      "cell_type": "markdown",
      "source": [
        "**Kmeans Clustering**"
      ],
      "metadata": {
        "id": "3uplhPwiVYpa"
      }
    },
    {
      "cell_type": "code",
      "source": [
        "from pyspark.ml.clustering import KMeans\n",
        "from pyspark.ml.evaluation import ClusteringEvaluator\n",
        "silhouette_score=[]\n",
        "evaluator = ClusteringEvaluator(predictionCol='prediction', featuresCol='scaledFeatures', \\\n",
        "                                metricName='silhouette', distanceMeasure='squaredEuclidean')"
      ],
      "metadata": {
        "id": "vNAklJpNVX1i"
      },
      "execution_count": 219,
      "outputs": []
    },
    {
      "cell_type": "markdown",
      "source": [
        "**Find best value of K**"
      ],
      "metadata": {
        "id": "60h_vRvSsF0p"
      }
    },
    {
      "cell_type": "code",
      "source": [
        "for i in range(2,15):\n",
        "    \n",
        "    KMeans_algo=KMeans(featuresCol='scaledFeatures', k=i)\n",
        "    \n",
        "    KMeans_fit=KMeans_algo.fit(df_model_final)\n",
        "    \n",
        "    output=KMeans_fit.transform(df_model_final)\n",
        "    \n",
        "    \n",
        "    \n",
        "    score=evaluator.evaluate(output)\n",
        "    \n",
        "    silhouette_score.append(score)\n",
        "    \n",
        "    print(\"Silhouette Score:\",score)"
      ],
      "metadata": {
        "colab": {
          "base_uri": "https://localhost:8080/"
        },
        "id": "4kikncXaVuDi",
        "outputId": "a7cd95be-e9be-4338-843c-8e2adb87dbe5"
      },
      "execution_count": 220,
      "outputs": [
        {
          "output_type": "stream",
          "name": "stdout",
          "text": [
            "Silhouette Score: 0.6030766683071473\n",
            "Silhouette Score: 0.28176408073431936\n",
            "Silhouette Score: 0.3134023823985729\n",
            "Silhouette Score: 0.3172165661460817\n",
            "Silhouette Score: 0.2715352375041178\n",
            "Silhouette Score: 0.34069899108436474\n",
            "Silhouette Score: 0.22486263022292396\n",
            "Silhouette Score: 0.3090830042108829\n",
            "Silhouette Score: 0.23700105647556224\n",
            "Silhouette Score: 0.27176913098423644\n",
            "Silhouette Score: 0.3159955519646402\n",
            "Silhouette Score: 0.3475289207623991\n",
            "Silhouette Score: 0.3626791288718943\n"
          ]
        }
      ]
    },
    {
      "cell_type": "markdown",
      "source": [
        "**Visualizing the silhouette scores in a plot**"
      ],
      "metadata": {
        "id": "tdpcsmuHsbsv"
      }
    },
    {
      "cell_type": "code",
      "source": [
        "#Visualizing the silhouette scores in a plot\n",
        "import matplotlib.pyplot as plt\n",
        "fig, ax = plt.subplots(1,1, figsize =(8,6))\n",
        "ax.plot(range(2,15),silhouette_score)\n",
        "ax.set_xlabel('k')\n",
        "ax.set_ylabel('value')"
      ],
      "metadata": {
        "colab": {
          "base_uri": "https://localhost:8080/",
          "height": 405
        },
        "id": "LgR8_G_GWmTM",
        "outputId": "d9523471-0f28-4e87-96a4-c0632794c02b"
      },
      "execution_count": 221,
      "outputs": [
        {
          "output_type": "execute_result",
          "data": {
            "text/plain": [
              "Text(0, 0.5, 'value')"
            ]
          },
          "metadata": {},
          "execution_count": 221
        },
        {
          "output_type": "display_data",
          "data": {
            "text/plain": [
              "<Figure size 576x432 with 1 Axes>"
            ],
            "image/png": "[encoded data removed]"
          },
          "metadata": {}
        }
      ]
    },
    {
      "cell_type": "markdown",
      "source": [
        "**Training Model with k=8**"
      ],
      "metadata": {
        "id": "GqvK44DQXrQR"
      }
    },
    {
      "cell_type": "code",
      "source": [
        "k = 8\n",
        "kmeans = KMeans().setK(k).setSeed(1).setFeaturesCol(\"scaledFeatures\")\n",
        "model = kmeans.fit(df_model_final)\n",
        "centers = model.clusterCenters()\n",
        "\n",
        "print(\"Cluster Centers: \")\n",
        "for center in centers:\n",
        "    print(center)"
      ],
      "metadata": {
        "colab": {
          "base_uri": "https://localhost:8080/"
        },
        "id": "ryUdgfWjXt0J",
        "outputId": "9b2bd62e-ea6a-479e-8bcb-7bf5d56dc611"
      },
      "execution_count": 222,
      "outputs": [
        {
          "output_type": "stream",
          "name": "stdout",
          "text": [
            "Cluster Centers: \n",
            "[0.01852686 0.11179691 0.34463112 2.11355345 0.86110379 0.02753524\n",
            " 0.23602129 0.21746248 0.23450629 0.2598433 ]\n",
            "[0.02393833 0.1326564  0.39681332 2.5197235  1.16114806 0.17639122\n",
            " 0.20480101 2.54817587 0.42692017 0.44393896]\n",
            "[0.19624657 0.13657614 0.46855858 2.51285318 1.69954756 4.12621222\n",
            " 1.076629   0.95030195 1.18175233 1.11696129]\n",
            "[8.13478252e-02 1.28182399e+02 7.30941134e-01 3.79411127e+00\n",
            " 2.86670556e+00 6.60344494e-01 3.03558807e+00 1.46027940e+00\n",
            " 1.93964882e+00 4.84308133e-01]\n",
            "[0.01679227 0.11724292 0.38053422 2.12583183 1.37956075 0.15937775\n",
            " 2.46737748 0.69964147 0.34360989 0.41084639]\n",
            "[0.02714696 0.15801668 0.50040847 2.56200802 1.80277048 0.65057397\n",
            " 0.85009612 1.09987338 2.87116411 2.68239231]\n",
            "[1.89180989e-02 1.26507815e-02 2.19282340e+02 5.69116691e+01\n",
            " 3.17542770e+00 9.90516741e+00 1.01186269e+00 8.76167640e-01\n",
            " 2.04079902e+00 4.24372418e+00]\n",
            "[0.02113797 0.14325439 0.48310514 2.98950755 2.50159658 0.16920162\n",
            " 0.41975588 0.36658518 0.35164482 0.46425731]\n"
          ]
        }
      ]
    },
    {
      "cell_type": "markdown",
      "source": [
        "**Final clusters**"
      ],
      "metadata": {
        "id": "KSFByStasj5p"
      }
    },
    {
      "cell_type": "code",
      "source": [
        "transformed = model.transform(df_model_final)\n",
        "transformed.select('price', 'prediction')\n",
        "rows = transformed.collect()\n",
        "print(rows[:3])"
      ],
      "metadata": {
        "colab": {
          "base_uri": "https://localhost:8080/"
        },
        "id": "yQj8ybrwcjyZ",
        "outputId": "eb4d48d0-f257-4dc2-d4a0-8ed1b443ebd0"
      },
      "execution_count": 223,
      "outputs": [
        {
          "output_type": "stream",
          "name": "stdout",
          "text": [
            "[Row(price=1148, scaledFeatures=DenseVector([0.0145, 0.1364, 0.6578, 3.2521, 2.5139, 0.0, 0.0, 0.0, 0.1812, 0.3052]), prediction=7), Row(price=1200, scaledFeatures=DenseVector([0.0151, 0.1266, 0.4386, 3.2521, 2.5139, 2.9716, 2.0237, 0.0, 3.7028, 3.1332]), prediction=5), Row(price=1813, scaledFeatures=DenseVector([0.0229, 0.2129, 0.4386, 3.2521, 2.5139, 0.0, 0.0, 1.7523, 0.0642, 0.0654]), prediction=7)]\n"
          ]
        }
      ]
    }
  ]
}